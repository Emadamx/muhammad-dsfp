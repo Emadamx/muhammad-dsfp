{
 "cells": [
  {
   "cell_type": "code",
   "execution_count": 1,
   "metadata": {
    "colab": {
     "base_uri": "https://localhost:8080/"
    },
    "id": "osR2r8Tc5bQk",
    "outputId": "7a7c99ab-f6f3-4603-86b4-d36e6d49e96b"
   },
   "outputs": [
    {
     "name": "stdout",
     "output_type": "stream",
     "text": [
      "I love python\n"
     ]
    }
   ],
   "source": [
    "print(\"I love python\")"
   ]
  },
  {
   "cell_type": "code",
   "execution_count": 4,
   "metadata": {
    "id": "IgPTfFsk5jg3"
   },
   "outputs": [],
   "source": [
    "age = 23\n",
    "height = 23.8\n",
    "name = \"Mustapha Laba\""
   ]
  },
  {
   "cell_type": "code",
   "execution_count": 7,
   "metadata": {
    "colab": {
     "base_uri": "https://localhost:8080/",
     "height": 35
    },
    "id": "rEt1gz2s6UwB",
    "outputId": "fae76a79-b20c-471b-aef1-d551ff368365"
   },
   "outputs": [
    {
     "data": {
      "application/vnd.google.colaboratory.intrinsic+json": {
       "type": "string"
      },
      "text/plain": [
       "'The average of 2, 5, 6 is: 4.333333333333333'"
      ]
     },
     "execution_count": 7,
     "metadata": {},
     "output_type": "execute_result"
    }
   ],
   "source": [
    "num1 = 2\n",
    "num2 = 5\n",
    "num3 = 6\n",
    "avg = (num1 + num2 + num3)/3\n",
    "\"The average of {}, {}, {} is: {}\".format(num1, num2, num3, avg)"
   ]
  },
  {
   "cell_type": "code",
   "execution_count": 8,
   "metadata": {
    "colab": {
     "base_uri": "https://localhost:8080/"
    },
    "id": "40VRJa5h7ioM",
    "outputId": "7c2bf7d8-a930-4ef6-f3ae-0ca9ee68107c"
   },
   "outputs": [
    {
     "name": "stdout",
     "output_type": "stream",
     "text": [
      "3.10.12 (main, Jun 11 2023, 05:26:28) [GCC 11.4.0]\n"
     ]
    }
   ],
   "source": [
    "#Libraries or packages\n",
    "import sys\n",
    "print(sys.version)"
   ]
  },
  {
   "cell_type": "code",
   "execution_count": 12,
   "metadata": {
    "id": "gn7mmJx58N59"
   },
   "outputs": [],
   "source": [
    "#select markdown or code"
   ]
  },
  {
   "cell_type": "code",
   "execution_count": null,
   "metadata": {
    "id": "lpfthQzy9eHh"
   },
   "outputs": [],
   "source": [
    "name = \"kaka\"\n",
    "dir(name)"
   ]
  },
  {
   "cell_type": "code",
   "execution_count": 16,
   "metadata": {
    "colab": {
     "base_uri": "https://localhost:8080/"
    },
    "id": "0Qj2dAxr-0sx",
    "outputId": "749c1668-2a59-414b-aff5-147dc704251d"
   },
   "outputs": [
    {
     "name": "stdout",
     "output_type": "stream",
     "text": [
      "42\n"
     ]
    }
   ],
   "source": [
    "n = 6*7\n",
    "print(n)"
   ]
  },
  {
   "cell_type": "code",
   "execution_count": 28,
   "metadata": {
    "colab": {
     "base_uri": "https://localhost:8080/"
    },
    "id": "48TDvO2j_hd5",
    "outputId": "66810af9-4bdd-4904-ee43-a862f616701b"
   },
   "outputs": [
    {
     "name": "stdout",
     "output_type": "stream",
     "text": [
      "The value of x is 7\n",
      "The value of y is 10\n",
      "The value of x is: 7\n"
     ]
    }
   ],
   "source": [
    "x = 3+2*2\n",
    "y = (3+2)*2\n",
    "print(\"The value of x is {}\".format(x))\n",
    "print(\"The value of y is {}\".format(y))\n",
    "print(\"The value of x is: \" + str(x))\n"
   ]
  },
  {
   "cell_type": "code",
   "execution_count": 53,
   "metadata": {
    "colab": {
     "base_uri": "https://localhost:8080/"
    },
    "id": "0xugGz6l_w9S",
    "outputId": "aec6b2bf-2941-455b-bc96-7f7237d26dfc"
   },
   "outputs": [
    {
     "name": "stdout",
     "output_type": "stream",
     "text": [
      "[88, 43, 23, 45, 65, 45]\n",
      "[23, 23, 23]\n",
      "445\n"
     ]
    }
   ],
   "source": [
    "  ages=[23,45,88,43,23,45,65,45,23,45]\n",
    "  print(ages[2:8])\n",
    "  print(ages[::4])\n",
    "  print(sum(ages))"
   ]
  },
  {
   "cell_type": "code",
   "execution_count": 55,
   "metadata": {
    "colab": {
     "base_uri": "https://localhost:8080/"
    },
    "id": "T8CkTAP1Gpy2",
    "outputId": "632ddc3a-30a3-41ba-8199-35a7b6091334"
   },
   "outputs": [
    {
     "data": {
      "text/plain": [
       "False"
      ]
     },
     "execution_count": 55,
     "metadata": {},
     "output_type": "execute_result"
    }
   ],
   "source": [
    "\"love\" == \"love\"[::-1]"
   ]
  },
  {
   "cell_type": "code",
   "execution_count": 60,
   "metadata": {
    "colab": {
     "base_uri": "https://localhost:8080/"
    },
    "id": "X47W79igUjxg",
    "outputId": "66147e43-5cfd-48fa-c47c-24cdcecb4900"
   },
   "outputs": [
    {
     "name": "stdout",
     "output_type": "stream",
     "text": [
      "23\n",
      "68\n",
      "156\n",
      "199\n",
      "222\n",
      "267\n",
      "332\n",
      "377\n",
      "400\n",
      "445\n"
     ]
    }
   ],
   "source": [
    "#For loop\n",
    "ages=[23,45,88,43,23,45,65,45,23,45]\n",
    "sum_age=0\n",
    "for age in ages:\n",
    "  sum_age=sum_age + age\n",
    "\n",
    "  print(sum_age)"
   ]
  },
  {
   "cell_type": "code",
   "execution_count": 59,
   "metadata": {
    "colab": {
     "base_uri": "https://localhost:8080/"
    },
    "id": "yd4kNO06Vpkr",
    "outputId": "b07e53b0-fbcf-433b-c24a-6669f5a6d497"
   },
   "outputs": [
    {
     "name": "stdout",
     "output_type": "stream",
     "text": [
      "[23, 45, 88, 43, 23, 45, 65, 45, 23, 45]\n"
     ]
    }
   ],
   "source": [
    "#For Loop\n",
    "ages=[23,45,88,43,23,45,65,45,23,45]\n",
    "new_age=[]\n",
    "for age in ages:\n",
    "  if age > 5:\n",
    "    new_age.append(age)\n",
    "\n",
    "print(new_age)"
   ]
  },
  {
   "cell_type": "code",
   "execution_count": 61,
   "metadata": {
    "colab": {
     "base_uri": "https://localhost:8080/"
    },
    "id": "r1Us7V2cWCQO",
    "outputId": "3607f400-1712-4632-cd22-2b36598f97e4"
   },
   "outputs": [
    {
     "name": "stdout",
     "output_type": "stream",
     "text": [
      "1\n",
      "2\n",
      "3\n",
      "4\n",
      "5\n",
      "6\n",
      "7\n",
      "8\n",
      "9\n",
      "10\n",
      "11\n",
      "12\n",
      "13\n",
      "14\n",
      "15\n",
      "16\n",
      "17\n",
      "18\n",
      "19\n",
      "20\n",
      "21\n",
      "22\n",
      "23\n",
      "24\n",
      "25\n"
     ]
    }
   ],
   "source": [
    "for i in range (1,26):\n",
    "  print(i)"
   ]
  },
  {
   "cell_type": "code",
   "execution_count": null,
   "metadata": {
    "id": "j3IUyPTjab7Y"
   },
   "outputs": [],
   "source": []
  }
 ],
 "metadata": {
  "colab": {
   "provenance": []
  },
  "kernelspec": {
   "display_name": "Python 3 (ipykernel)",
   "language": "python",
   "name": "python3"
  },
  "language_info": {
   "codemirror_mode": {
    "name": "ipython",
    "version": 3
   },
   "file_extension": ".py",
   "mimetype": "text/x-python",
   "name": "python",
   "nbconvert_exporter": "python",
   "pygments_lexer": "ipython3",
   "version": "3.11.5"
  }
 },
 "nbformat": 4,
 "nbformat_minor": 1
}
